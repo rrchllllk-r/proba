{
  "nbformat": 4,
  "nbformat_minor": 0,
  "metadata": {
    "colab": {
      "provenance": []
    },
    "kernelspec": {
      "name": "python3",
      "display_name": "Python 3"
    },
    "language_info": {
      "name": "python"
    }
  },
  "cells": [
    {
      "cell_type": "code",
      "execution_count": null,
      "metadata": {
        "colab": {
          "base_uri": "https://localhost:8080/"
        },
        "id": "rWZUdTRcPHGo",
        "outputId": "f4812ca4-8445-4772-e6d5-c25a5a796318"
      },
      "outputs": [
        {
          "output_type": "stream",
          "name": "stdout",
          "text": [
            "Collecting ucimlrepo\n",
            "  Downloading ucimlrepo-0.0.7-py3-none-any.whl.metadata (5.5 kB)\n",
            "Requirement already satisfied: pandas>=1.0.0 in /usr/local/lib/python3.12/dist-packages (from ucimlrepo) (2.2.2)\n",
            "Requirement already satisfied: certifi>=2020.12.5 in /usr/local/lib/python3.12/dist-packages (from ucimlrepo) (2025.8.3)\n",
            "Requirement already satisfied: numpy>=1.26.0 in /usr/local/lib/python3.12/dist-packages (from pandas>=1.0.0->ucimlrepo) (2.0.2)\n",
            "Requirement already satisfied: python-dateutil>=2.8.2 in /usr/local/lib/python3.12/dist-packages (from pandas>=1.0.0->ucimlrepo) (2.9.0.post0)\n",
            "Requirement already satisfied: pytz>=2020.1 in /usr/local/lib/python3.12/dist-packages (from pandas>=1.0.0->ucimlrepo) (2025.2)\n",
            "Requirement already satisfied: tzdata>=2022.7 in /usr/local/lib/python3.12/dist-packages (from pandas>=1.0.0->ucimlrepo) (2025.2)\n",
            "Requirement already satisfied: six>=1.5 in /usr/local/lib/python3.12/dist-packages (from python-dateutil>=2.8.2->pandas>=1.0.0->ucimlrepo) (1.17.0)\n",
            "Downloading ucimlrepo-0.0.7-py3-none-any.whl (8.0 kB)\n",
            "Installing collected packages: ucimlrepo\n",
            "Successfully installed ucimlrepo-0.0.7\n"
          ]
        }
      ],
      "source": [
        "# Установка библиотеки ucimlrepo\n",
        "!pip install ucimlrepo"
      ]
    },
    {
      "cell_type": "code",
      "source": [
        "# Импорт необходимых библиотек\n",
        "import pandas as pd\n",
        "from ucimlrepo import fetch_ucirepo\n",
        "\n",
        "# Загрузка набора данных Adult Income\n",
        "adult = fetch_ucirepo(id=2)\n",
        "\n",
        "# Данные (в виде DataFrame Pandas)\n",
        "X = adult.data.features\n",
        "y = adult.data.targets\n",
        "\n",
        "# Объединяем признаки и целевую переменную в один DataFrame для удобства\n",
        "df = pd.concat([X, y], axis=1)\n",
        "\n",
        "# Выводим основную информацию о наборе данных\n",
        "print(\"Первые 5 строк набора данных:\")\n",
        "print(df.head())\n",
        "print(\"\\n\" + \"=\"*60)"
      ],
      "metadata": {
        "colab": {
          "base_uri": "https://localhost:8080/"
        },
        "id": "7Dwg3C5vPaPx",
        "outputId": "d1f59210-8e61-42a5-dd59-907c595ac8cb"
      },
      "execution_count": null,
      "outputs": [
        {
          "output_type": "stream",
          "name": "stdout",
          "text": [
            "Первые 5 строк набора данных:\n",
            "   age         workclass  fnlwgt  education  education-num  \\\n",
            "0   39         State-gov   77516  Bachelors             13   \n",
            "1   50  Self-emp-not-inc   83311  Bachelors             13   \n",
            "2   38           Private  215646    HS-grad              9   \n",
            "3   53           Private  234721       11th              7   \n",
            "4   28           Private  338409  Bachelors             13   \n",
            "\n",
            "       marital-status         occupation   relationship   race     sex  \\\n",
            "0       Never-married       Adm-clerical  Not-in-family  White    Male   \n",
            "1  Married-civ-spouse    Exec-managerial        Husband  White    Male   \n",
            "2            Divorced  Handlers-cleaners  Not-in-family  White    Male   \n",
            "3  Married-civ-spouse  Handlers-cleaners        Husband  Black    Male   \n",
            "4  Married-civ-spouse     Prof-specialty           Wife  Black  Female   \n",
            "\n",
            "   capital-gain  capital-loss  hours-per-week native-country income  \n",
            "0          2174             0              40  United-States  <=50K  \n",
            "1             0             0              13  United-States  <=50K  \n",
            "2             0             0              40  United-States  <=50K  \n",
            "3             0             0              40  United-States  <=50K  \n",
            "4             0             0              40           Cuba  <=50K  \n",
            "\n",
            "============================================================\n"
          ]
        }
      ]
    },
    {
      "cell_type": "code",
      "source": [
        "# 1) Число столбцов в наборе данных\n",
        "num_columns = df.shape[1]\n",
        "print(f\"1) Число столбцов в наборе данных: {num_columns}\")\n",
        "\n",
        "# 2) Проверяем пропуски в данных (отмечены как NaN)\n",
        "missing_values = df.isnull().sum()\n",
        "print(f\"\\n2) Пропуски в данных:\")\n",
        "# Проверяем, есть ли вообще пропущенные значения\n",
        "if missing_values.any():\n",
        "    print(\"В данных присутствуют пропуски в следующих столбцах:\")\n",
        "    # Выводим только те столбцы, где есть пропуски\n",
        "    for column, missing_count in missing_values.items():\n",
        "        if missing_count > 0:\n",
        "            print(f\"   - {column}: {missing_count} пропусков\")\n",
        "else:\n",
        "    print(\"Пропуски в данных отсутствуют.\")\n",
        "\n",
        "# 3) Количество уникальных значений в столбце race\n",
        "unique_race_count = df['race'].nunique()\n",
        "print(f\"\\n3) Количество уникальных значений в столбце 'race': {unique_race_count}\")\n",
        "print(f\"   Уникальные значения: {df['race'].unique().tolist()}\")\n",
        "\n",
        "# 4) Медиана hours-per-week\n",
        "hours_median = df['hours-per-week'].median()\n",
        "print(f\"\\n4) Медиана 'hours-per-week': {hours_median}\")\n",
        "\n",
        "# 5) Кого больше - женщин или мужчин с ЗП >50K?\n",
        "high_income_gender = df[df['income'] == '>50K']['sex'].value_counts()\n",
        "print(f\"\\n5) Распределение по полу для людей с доходом >50K:\")\n",
        "print(high_income_gender)\n",
        "\n",
        "if high_income_gender.get('Male', 0) > high_income_gender.get('Female', 0):\n",
        "    print(\"   Вывод: Мужчин с зарплатой >50K больше.\")\n",
        "else:\n",
        "    print(\"   Вывод: Женщин с зарплатой >50K больше.\")"
      ],
      "metadata": {
        "colab": {
          "base_uri": "https://localhost:8080/"
        },
        "id": "fy-cBmNVPciw",
        "outputId": "9db847f8-ed9f-4b0c-d67e-e02da5c68168"
      },
      "execution_count": null,
      "outputs": [
        {
          "output_type": "stream",
          "name": "stdout",
          "text": [
            "1) Число столбцов в наборе данных: 15\n",
            "\n",
            "2) Пропуски в данных:\n",
            "В данных присутствуют пропуски в следующих столбцах:\n",
            "   - workclass: 963 пропусков\n",
            "   - occupation: 966 пропусков\n",
            "   - native-country: 274 пропусков\n",
            "\n",
            "3) Количество уникальных значений в столбце 'race': 5\n",
            "   Уникальные значения: ['White', 'Black', 'Asian-Pac-Islander', 'Amer-Indian-Eskimo', 'Other']\n",
            "\n",
            "4) Медиана 'hours-per-week': 40.0\n",
            "\n",
            "5) Распределение по полу для людей с доходом >50K:\n",
            "sex\n",
            "Male      6662\n",
            "Female    1179\n",
            "Name: count, dtype: int64\n",
            "   Вывод: Мужчин с зарплатой >50K больше.\n"
          ]
        }
      ]
    },
    {
      "cell_type": "code",
      "source": [
        "# 6) Заполняем пропущенные данные в отдельных столбцах наиболее встречаемыми значениями (модой)\n",
        "print(\"\\n6) Заполнение пропущенных данных:\")\n",
        "# Создаем копию DataFrame, чтобы не изменять исходные данные\n",
        "df_filled = df.copy()\n",
        "\n",
        "# Находим столбцы с пропусками\n",
        "columns_with_missing = missing_values[missing_values > 0].index\n",
        "\n",
        "if len(columns_with_missing) > 0:\n",
        "    print(\"Заполняем пропуски наиболее частыми значениями (модой):\")\n",
        "    for column in columns_with_missing:\n",
        "        # Вычисляем моду (наиболее часто встречающееся значение) для столбца\n",
        "        # mode() возвращает Series, берем первое значение на случай, если несколько мод\n",
        "        most_frequent_value = df[column].mode()[0]\n",
        "        # Заполняем пропуски\n",
        "        df_filled[column].fillna(most_frequent_value, inplace=True)\n",
        "        print(f\"   - Столбец '{column}': заполнено {df[column].isnull().sum()} пропусков значением '{most_frequent_value}'\")\n",
        "\n",
        "    # Проверяем, что пропусков не осталось\n",
        "    print(f\"\\n   Проверка: осталось пропусков после заполнения - {df_filled.isnull().sum().sum()}\")\n",
        "else:\n",
        "    print(\"   Пропуски для заполнения отсутствуют.\")\n",
        "\n",
        "print(\"\\n\" + \"=\"*60)\n",
        "print(\"Обработка завершена!\")"
      ],
      "metadata": {
        "colab": {
          "base_uri": "https://localhost:8080/"
        },
        "id": "69qmZEmaPfK6",
        "outputId": "bf583f87-c0fe-483b-8ca8-1896b6187fac"
      },
      "execution_count": null,
      "outputs": [
        {
          "output_type": "stream",
          "name": "stdout",
          "text": [
            "\n",
            "6) Заполнение пропущенных данных:\n",
            "Заполняем пропуски наиболее частыми значениями (модой):\n",
            "   - Столбец 'workclass': заполнено 963 пропусков значением 'Private'\n",
            "   - Столбец 'occupation': заполнено 966 пропусков значением 'Prof-specialty'\n",
            "   - Столбец 'native-country': заполнено 274 пропусков значением 'United-States'\n",
            "\n",
            "   Проверка: осталось пропусков после заполнения - 0\n",
            "\n",
            "============================================================\n",
            "Обработка завершена!\n"
          ]
        },
        {
          "output_type": "stream",
          "name": "stderr",
          "text": [
            "/tmp/ipython-input-3174654004.py:16: FutureWarning: A value is trying to be set on a copy of a DataFrame or Series through chained assignment using an inplace method.\n",
            "The behavior will change in pandas 3.0. This inplace method will never work because the intermediate object on which we are setting values always behaves as a copy.\n",
            "\n",
            "For example, when doing 'df[col].method(value, inplace=True)', try using 'df.method({col: value}, inplace=True)' or df[col] = df[col].method(value) instead, to perform the operation inplace on the original object.\n",
            "\n",
            "\n",
            "  df_filled[column].fillna(most_frequent_value, inplace=True)\n"
          ]
        }
      ]
    },
    {
      "cell_type": "markdown",
      "source": [
        "1) 15\n",
        "\n",
        "2) В данных присутствуют пропуски в следующих столбцах:\n",
        "   - workclass\n",
        "   - occupation\n",
        "   - native-country\n",
        "\n",
        "3) 5\n",
        "   \n",
        "4) 40.0\n",
        "\n",
        "5) Мужчин с зарплатой >50K больше.\n",
        "\n",
        "6) Заполнил пропуски наиболее частыми значениями. Ещё можно было бы заполнить пропуски, например, константой или медианой."
      ],
      "metadata": {
        "id": "JKC1Aqc9P37m"
      }
    }
  ]
}